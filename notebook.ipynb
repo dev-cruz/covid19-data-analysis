{
 "cells": [
  {
   "cell_type": "code",
   "execution_count": 19,
   "metadata": {},
   "outputs": [],
   "source": [
    "import pandas as pd\n",
    "import matplotlib.pyplot as plt\n",
    "import plotly.graph_objects as go\n",
    "from geopy.geocoders import Nominatim\n",
    "low_memory=False\n",
    "pd.options.display.max_columns = 80\n",
    "pd.options.display.max_rows = 90"
   ]
  },
  {
   "cell_type": "code",
   "execution_count": 2,
   "metadata": {},
   "outputs": [
    {
     "name": "stderr",
     "output_type": "stream",
     "text": [
      "/home/joao/.local/lib/python3.6/site-packages/IPython/core/interactiveshell.py:3072: DtypeWarning:\n",
      "\n",
      "Columns (9) have mixed types.Specify dtype option on import or set low_memory=False.\n",
      "\n"
     ]
    }
   ],
   "source": [
    "filename = r'./covid19-brazil.csv'\n",
    "df = pd.read_csv(filename, delimiter=',', encoding='UTF-8')"
   ]
  },
  {
   "cell_type": "code",
   "execution_count": 3,
   "metadata": {},
   "outputs": [
    {
     "data": {
      "text/plain": [
       "(488284, 17)"
      ]
     },
     "execution_count": 3,
     "metadata": {},
     "output_type": "execute_result"
    }
   ],
   "source": [
    "df.dropna(how='all',axis=0, inplace=True)\n",
    "df.shape"
   ]
  },
  {
   "cell_type": "code",
   "execution_count": 4,
   "metadata": {},
   "outputs": [
    {
     "name": "stdout",
     "output_type": "stream",
     "text": [
      "<class 'pandas.core.frame.DataFrame'>\n",
      "Int64Index: 488284 entries, 0 to 488283\n",
      "Data columns (total 17 columns):\n",
      " #   Column                 Non-Null Count   Dtype  \n",
      "---  ------                 --------------   -----  \n",
      " 0   regiao                 488284 non-null  object \n",
      " 1   estado                 488161 non-null  object \n",
      " 2   municipio              482908 non-null  object \n",
      " 3   coduf                  488284 non-null  int64  \n",
      " 4   codmun                 484840 non-null  float64\n",
      " 5   codRegiaoSaude         482908 non-null  float64\n",
      " 6   nomeRegiaoSaude        482908 non-null  object \n",
      " 7   data                   488284 non-null  object \n",
      " 8   semanaEpi              488284 non-null  int64  \n",
      " 9   populacaoTCU2019       486352 non-null  object \n",
      " 10  casosAcumulado         488284 non-null  int64  \n",
      " 11  casosNovos             488284 non-null  int64  \n",
      " 12  obitosAcumulado        488284 non-null  int64  \n",
      " 13  obitosNovos            488284 non-null  int64  \n",
      " 14  Recuperadosnovos       69 non-null      float64\n",
      " 15  emAcompanhamentoNovos  69 non-null      float64\n",
      " 16  FgMetro                482908 non-null  float64\n",
      "dtypes: float64(5), int64(6), object(6)\n",
      "memory usage: 67.1+ MB\n"
     ]
    }
   ],
   "source": [
    "df.info()"
   ]
  },
  {
   "cell_type": "code",
   "execution_count": 5,
   "metadata": {},
   "outputs": [
    {
     "data": {
      "text/html": [
       "<div>\n",
       "<style scoped>\n",
       "    .dataframe tbody tr th:only-of-type {\n",
       "        vertical-align: middle;\n",
       "    }\n",
       "\n",
       "    .dataframe tbody tr th {\n",
       "        vertical-align: top;\n",
       "    }\n",
       "\n",
       "    .dataframe thead th {\n",
       "        text-align: right;\n",
       "    }\n",
       "</style>\n",
       "<table border=\"1\" class=\"dataframe\">\n",
       "  <thead>\n",
       "    <tr style=\"text-align: right;\">\n",
       "      <th></th>\n",
       "      <th>regiao</th>\n",
       "      <th>estado</th>\n",
       "      <th>municipio</th>\n",
       "      <th>data</th>\n",
       "      <th>casos</th>\n",
       "      <th>obitos</th>\n",
       "    </tr>\n",
       "  </thead>\n",
       "  <tbody>\n",
       "    <tr>\n",
       "      <th>220189</th>\n",
       "      <td>Sudeste</td>\n",
       "      <td>MG</td>\n",
       "      <td>Coimbra</td>\n",
       "      <td>6/20/2020</td>\n",
       "      <td>3</td>\n",
       "      <td>0</td>\n",
       "    </tr>\n",
       "    <tr>\n",
       "      <th>355113</th>\n",
       "      <td>Sul</td>\n",
       "      <td>PR</td>\n",
       "      <td>Agudos do Sul</td>\n",
       "      <td>5/11/2020</td>\n",
       "      <td>4</td>\n",
       "      <td>0</td>\n",
       "    </tr>\n",
       "    <tr>\n",
       "      <th>202312</th>\n",
       "      <td>Nordeste</td>\n",
       "      <td>BA</td>\n",
       "      <td>Valente</td>\n",
       "      <td>5/22/2020</td>\n",
       "      <td>28</td>\n",
       "      <td>1</td>\n",
       "    </tr>\n",
       "    <tr>\n",
       "      <th>164098</th>\n",
       "      <td>Nordeste</td>\n",
       "      <td>SE</td>\n",
       "      <td>Moita Bonita</td>\n",
       "      <td>4/18/2020</td>\n",
       "      <td>0</td>\n",
       "      <td>0</td>\n",
       "    </tr>\n",
       "    <tr>\n",
       "      <th>305505</th>\n",
       "      <td>Sudeste</td>\n",
       "      <td>SP</td>\n",
       "      <td>Braúna</td>\n",
       "      <td>4/21/2020</td>\n",
       "      <td>0</td>\n",
       "      <td>0</td>\n",
       "    </tr>\n",
       "    <tr>\n",
       "      <th>193242</th>\n",
       "      <td>Nordeste</td>\n",
       "      <td>BA</td>\n",
       "      <td>Pintadas</td>\n",
       "      <td>3/29/2020</td>\n",
       "      <td>0</td>\n",
       "      <td>0</td>\n",
       "    </tr>\n",
       "    <tr>\n",
       "      <th>166893</th>\n",
       "      <td>Nordeste</td>\n",
       "      <td>SE</td>\n",
       "      <td>São Miguel do Aleixo</td>\n",
       "      <td>5/23/2020</td>\n",
       "      <td>2</td>\n",
       "      <td>0</td>\n",
       "    </tr>\n",
       "    <tr>\n",
       "      <th>408458</th>\n",
       "      <td>Sul</td>\n",
       "      <td>SC</td>\n",
       "      <td>São Carlos</td>\n",
       "      <td>4/26/2020</td>\n",
       "      <td>0</td>\n",
       "      <td>0</td>\n",
       "    </tr>\n",
       "    <tr>\n",
       "      <th>309860</th>\n",
       "      <td>Sudeste</td>\n",
       "      <td>SP</td>\n",
       "      <td>Colômbia</td>\n",
       "      <td>5/22/2020</td>\n",
       "      <td>0</td>\n",
       "      <td>0</td>\n",
       "    </tr>\n",
       "    <tr>\n",
       "      <th>398816</th>\n",
       "      <td>Sul</td>\n",
       "      <td>SC</td>\n",
       "      <td>Jaguaruna</td>\n",
       "      <td>5/14/2020</td>\n",
       "      <td>7</td>\n",
       "      <td>0</td>\n",
       "    </tr>\n",
       "  </tbody>\n",
       "</table>\n",
       "</div>"
      ],
      "text/plain": [
       "          regiao estado             municipio       data  casos  obitos\n",
       "220189   Sudeste     MG               Coimbra  6/20/2020      3       0\n",
       "355113       Sul     PR         Agudos do Sul  5/11/2020      4       0\n",
       "202312  Nordeste     BA               Valente  5/22/2020     28       1\n",
       "164098  Nordeste     SE          Moita Bonita  4/18/2020      0       0\n",
       "305505   Sudeste     SP                Braúna  4/21/2020      0       0\n",
       "193242  Nordeste     BA              Pintadas  3/29/2020      0       0\n",
       "166893  Nordeste     SE  São Miguel do Aleixo  5/23/2020      2       0\n",
       "408458       Sul     SC            São Carlos  4/26/2020      0       0\n",
       "309860   Sudeste     SP              Colômbia  5/22/2020      0       0\n",
       "398816       Sul     SC             Jaguaruna  5/14/2020      7       0"
      ]
     },
     "execution_count": 5,
     "metadata": {},
     "output_type": "execute_result"
    }
   ],
   "source": [
    "df = pd.DataFrame(data={\n",
    "    \"regiao\": df[\"regiao\"],\n",
    "    \"estado\": df[\"estado\"],\n",
    "    \"municipio\": df[\"municipio\"],\n",
    "    \"data\": df[\"data\"],\n",
    "    \"casos\": df[\"casosAcumulado\"],\n",
    "    \"obitos\": df[\"obitosAcumulado\"]\n",
    "})\n",
    "df.sample(10)"
   ]
  },
  {
   "cell_type": "code",
   "execution_count": 6,
   "metadata": {},
   "outputs": [],
   "source": [
    "dates = [\n",
    "    '2/25/2020', '2/29/2020',\n",
    "    '3/1/2020', '3/31/2020',\n",
    "    '4/1/2020', '4/30/2020',\n",
    "    '5/1/2020', '5/31/2020',\n",
    "    '6/1/2020', '6/26/2020'\n",
    "]\n",
    "df = df.loc[df[\"data\"].isin(dates)]"
   ]
  },
  {
   "cell_type": "code",
   "execution_count": 7,
   "metadata": {},
   "outputs": [
    {
     "data": {
      "image/png": "[encoded data removed]",
      "text/plain": [
       "<Figure size 864x432 with 1 Axes>"
      ]
     },
     "metadata": {
      "needs_background": "light"
     },
     "output_type": "display_data"
    }
   ],
   "source": [
    "national = df.query('regiao == \"Brasil\"')\n",
    "\n",
    "plt.figure(figsize=(12, 6))\n",
    "plt.title(\"Crescimento do número de casos e óbitos ao longo dos meses\")\n",
    "plt.ylabel(\"Número de casos confirmados (em milhões)\")\n",
    "plt.xlabel(\"datas\")\n",
    "plt.grid(True)\n",
    "dates = national[\"data\"]\n",
    "cases = national[\"casos\"]\n",
    "deaths = national[\"obitos\"]\n",
    "plt.plot(dates, cases, label=\"Casos confirmados\", color=\"blue\")\n",
    "plt.plot(dates, deaths, label=\"Mortes confirmadas\", color=\"red\")\n",
    "plt.legend()\n",
    "plt.show()"
   ]
  },
  {
   "cell_type": "code",
   "execution_count": 8,
   "metadata": {},
   "outputs": [
    {
     "data": {
      "text/plain": [
       "<Figure size 432x288 with 0 Axes>"
      ]
     },
     "metadata": {},
     "output_type": "display_data"
    },
    {
     "data": {
      "image/png": "[encoded data removed]",
      "text/plain": [
       "<Figure size 1440x1440 with 5 Axes>"
      ]
     },
     "metadata": {
      "needs_background": "light"
     },
     "output_type": "display_data"
    }
   ],
   "source": [
    "plt.figure()\n",
    "\n",
    "regions = df.query('regiao != \"Brasil\"')[\"regiao\"].unique()\n",
    "pos = 321\n",
    "plt.figure(figsize=(20, 20))\n",
    "for i in range(len(regions)):\n",
    "    region = regions[i]\n",
    "    dataframe = df.query(f'regiao == \"{regions[i]}\"')\n",
    "    plt.subplot(pos)\n",
    "    plt.title(region)\n",
    "    plt.ylabel(\"Número de casos\")\n",
    "    plt.xlabel(\"Estados\")\n",
    "    plt.grid(True)\n",
    "    states = dataframe[\"estado\"]\n",
    "    cases = dataframe[\"casos\"]\n",
    "    deaths = dataframe[\"obitos\"]\n",
    "    plt.bar(states, cases, label=\"Casos confirmados\", color=\"blue\")\n",
    "    plt.bar(states, deaths, label=\"Mortes confirmadas\", color=\"red\")\n",
    "    plt.legend()\n",
    "    pos += 1\n",
    "    \n",
    "plt.show()"
   ]
  },
  {
   "cell_type": "code",
   "execution_count": 24,
   "metadata": {},
   "outputs": [
    {
     "name": "stdout",
     "output_type": "stream",
     "text": [
      "RO\n",
      "Casos confirmados: 12041\n",
      "Mortes: 338\n",
      "\n",
      "AC\n",
      "Casos confirmados: 6498\n",
      "Mortes: 243\n",
      "\n",
      "AM\n",
      "Casos confirmados: 26783\n",
      "Mortes: 1747\n",
      "\n",
      "RR\n",
      "Casos confirmados: 9705\n",
      "Mortes: 217\n",
      "\n",
      "PA\n",
      "Casos confirmados: 18620\n",
      "Mortes: 1883\n",
      "\n",
      "AP\n",
      "Casos confirmados: 12885\n",
      "Mortes: 245\n",
      "\n",
      "TO\n",
      "Casos confirmados: 3655\n",
      "Mortes: 53\n",
      "\n",
      "MA\n",
      "Casos confirmados: 12755\n",
      "Mortes: 771\n",
      "\n",
      "PI\n",
      "Casos confirmados: 6899\n",
      "Mortes: 324\n",
      "\n",
      "CE\n",
      "Casos confirmados: 34580\n",
      "Mortes: 3235\n",
      "\n",
      "RN\n",
      "Casos confirmados: 9234\n",
      "Mortes: 343\n",
      "\n",
      "PB\n",
      "Casos confirmados: 12015\n",
      "Mortes: 296\n",
      "\n",
      "PE\n",
      "Casos confirmados: 20275\n",
      "Mortes: 1781\n",
      "\n",
      "AL\n",
      "Casos confirmados: 14236\n",
      "Mortes: 569\n",
      "\n",
      "SE\n",
      "Casos confirmados: 12849\n",
      "Mortes: 247\n",
      "\n",
      "BA\n",
      "Casos confirmados: 27713\n",
      "Mortes: 1046\n",
      "\n",
      "MG\n",
      "Casos confirmados: 5827\n",
      "Mortes: 109\n",
      "\n",
      "ES\n",
      "Casos confirmados: 6926\n",
      "Mortes: 289\n",
      "\n",
      "RJ\n",
      "Casos confirmados: 55152\n",
      "Mortes: 6264\n",
      "\n",
      "SP\n",
      "Casos confirmados: 121163\n",
      "Mortes: 6880\n",
      "\n",
      "PR\n",
      "Casos confirmados: 3208\n",
      "Mortes: 128\n",
      "\n",
      "SC\n",
      "Casos confirmados: 2397\n",
      "Mortes: 35\n",
      "\n",
      "RS\n",
      "Casos confirmados: 2384\n",
      "Mortes: 76\n",
      "\n",
      "MS\n",
      "Casos confirmados: 2335\n",
      "Mortes: 19\n",
      "\n",
      "MT\n",
      "Casos confirmados: 3161\n",
      "Mortes: 137\n",
      "\n",
      "GO\n",
      "Casos confirmados: 6054\n",
      "Mortes: 144\n",
      "\n",
      "DF\n",
      "Casos confirmados: 41326\n",
      "Mortes: 532\n",
      "\n"
     ]
    }
   ],
   "source": [
    "geolocator = Nominatim(user_agent=\"Covid 19 data analysis\")\n",
    "states = df.dropna()\n",
    "arr_states = states[\"estado\"].unique()\n",
    "desc = []\n",
    "latitudes = []\n",
    "longitudes = []\n",
    "for i in range(len(arr_states)):\n",
    "    state_df = states.query(f'estado == \"{arr_states[i]}\"')\n",
    "    cases = state_df[\"casos\"]\n",
    "    deaths = state_df[\"obitos\"]\n",
    "    desc.append(f\"{arr_states[i]}\\nCasos confirmados: {max(cases)}\\nMortes: {max(deaths)}\\n\")\n",
    "    location = geolocator.geocode(f\"{arr_states[i]} - Brazil\")\n",
    "    latitudes.append(f\"{location.latitude}\")\n",
    "    longitudes.append(f\"{location.longitude}\")\n",
    "\n",
    "for s in desc: print(s)"
   ]
  },
  {
   "cell_type": "code",
   "execution_count": 36,
   "metadata": {},
   "outputs": [
    {
     "data": {
      "application/vnd.plotly.v1+json": {
       "config": {
        "plotlyServerURL": "https://plot.ly"
       },
       "data": [
        {
         "lat": [
          "-10.943145",
          "-9.0478679",
          "-4.479925",
          "2.135138",
          "-4.7493933",
          "1.3545442",
          "-10.8855129",
          "-5.2085503",
          "-7.6992782",
          "-5.3264703",
          "-5.6781175",
          "-7.1219366",
          "-8.4116316",
          "-9.6611661",
          "-10.6743911",
          "-12.285251",
          "-18.5264844",
          "-19.5687682",
          "-22.2752762",
          "-21.9549806",
          "-24.4842187",
          "-27.0628367",
          "-29.8425284",
          "-19.5852564",
          "-12.2115009",
          "-15.9323662",
          "-15.7754462"
         ],
         "lon": [
          "-62.8277863",
          "-70.5264976",
          "-63.5185396",
          "-61.3631922",
          "-52.8973006",
          "-51.9161977",
          "-48.3716912",
          "-45.3930262",
          "-42.5043787",
          "-39.7156073",
          "-36.4781776",
          "-36.7246845",
          "-37.5919699",
          "-36.6502426",
          "-37.3773519",
          "-41.9294776",
          "-44.1588654",
          "-40.1721991",
          "-42.419415",
          "-49.0232348",
          "-51.8148872",
          "-51.114965",
          "-53.7680577",
          "-54.4794731",
          "-55.5716547",
          "-50.1392928",
          "-47.7970891"
         ],
         "marker": {
          "size": 9
         },
         "mode": "markers",
         "text": [
          "RO\nCasos confirmados: 12041\nMortes: 338\n",
          "AC\nCasos confirmados: 6498\nMortes: 243\n",
          "AM\nCasos confirmados: 26783\nMortes: 1747\n",
          "RR\nCasos confirmados: 9705\nMortes: 217\n",
          "PA\nCasos confirmados: 18620\nMortes: 1883\n",
          "AP\nCasos confirmados: 12885\nMortes: 245\n",
          "TO\nCasos confirmados: 3655\nMortes: 53\n",
          "MA\nCasos confirmados: 12755\nMortes: 771\n",
          "PI\nCasos confirmados: 6899\nMortes: 324\n",
          "CE\nCasos confirmados: 34580\nMortes: 3235\n",
          "RN\nCasos confirmados: 9234\nMortes: 343\n",
          "PB\nCasos confirmados: 12015\nMortes: 296\n",
          "PE\nCasos confirmados: 20275\nMortes: 1781\n",
          "AL\nCasos confirmados: 14236\nMortes: 569\n",
          "SE\nCasos confirmados: 12849\nMortes: 247\n",
          "BA\nCasos confirmados: 27713\nMortes: 1046\n",
          "MG\nCasos confirmados: 5827\nMortes: 109\n",
          "ES\nCasos confirmados: 6926\nMortes: 289\n",
          "RJ\nCasos confirmados: 55152\nMortes: 6264\n",
          "SP\nCasos confirmados: 121163\nMortes: 6880\n",
          "PR\nCasos confirmados: 3208\nMortes: 128\n",
          "SC\nCasos confirmados: 2397\nMortes: 35\n",
          "RS\nCasos confirmados: 2384\nMortes: 76\n",
          "MS\nCasos confirmados: 2335\nMortes: 19\n",
          "MT\nCasos confirmados: 3161\nMortes: 137\n",
          "GO\nCasos confirmados: 6054\nMortes: 144\n",
          "DF\nCasos confirmados: 41326\nMortes: 532\n"
         ],
         "type": "scattermapbox"
        }
       ],
       "layout": {
        "hovermode": "closest",
        "mapbox": {
         "accesstoken": "pk.eyJ1Ijoiam9hby1jcnV6IiwiYSI6ImNrYnlnZ25idzB6ajYzMXAzMmFzYzRsdTQifQ.tHr2hYVGHfydnnwlZN8RQg\n",
         "bearing": 0,
         "center": {
          "lat": -10.3333333,
          "lon": -53.2
         },
         "pitch": 0,
         "zoom": 3
        },
        "template": {
         "data": {
          "bar": [
           {
            "error_x": {
             "color": "#2a3f5f"
            },
            "error_y": {
             "color": "#2a3f5f"
            },
            "marker": {
             "line": {
              "color": "#E5ECF6",
              "width": 0.5
             }
            },
            "type": "bar"
           }
          ],
          "barpolar": [
           {
            "marker": {
             "line": {
              "color": "#E5ECF6",
              "width": 0.5
             }
            },
            "type": "barpolar"
           }
          ],
          "carpet": [
           {
            "aaxis": {
             "endlinecolor": "#2a3f5f",
             "gridcolor": "white",
             "linecolor": "white",
             "minorgridcolor": "white",
             "startlinecolor": "#2a3f5f"
            },
            "baxis": {
             "endlinecolor": "#2a3f5f",
             "gridcolor": "white",
             "linecolor": "white",
             "minorgridcolor": "white",
             "startlinecolor": "#2a3f5f"
            },
            "type": "carpet"
           }
          ],
          "choropleth": [
           {
            "colorbar": {
             "outlinewidth": 0,
             "ticks": ""
            },
            "type": "choropleth"
           }
          ],
          "contour": [
           {
            "colorbar": {
             "outlinewidth": 0,
             "ticks": ""
            },
            "colorscale": [
             [
              0,
              "#0d0887"
             ],
             [
              0.1111111111111111,
              "#46039f"
             ],
             [
              0.2222222222222222,
              "#7201a8"
             ],
             [
              0.3333333333333333,
              "#9c179e"
             ],
             [
              0.4444444444444444,
              "#bd3786"
             ],
             [
              0.5555555555555556,
              "#d8576b"
             ],
             [
              0.6666666666666666,
              "#ed7953"
             ],
             [
              0.7777777777777778,
              "#fb9f3a"
             ],
             [
              0.8888888888888888,
              "#fdca26"
             ],
             [
              1,
              "#f0f921"
             ]
            ],
            "type": "contour"
           }
          ],
          "contourcarpet": [
           {
            "colorbar": {
             "outlinewidth": 0,
             "ticks": ""
            },
            "type": "contourcarpet"
           }
          ],
          "heatmap": [
           {
            "colorbar": {
             "outlinewidth": 0,
             "ticks": ""
            },
            "colorscale": [
             [
              0,
              "#0d0887"
             ],
             [
              0.1111111111111111,
              "#46039f"
             ],
             [
              0.2222222222222222,
              "#7201a8"
             ],
             [
              0.3333333333333333,
              "#9c179e"
             ],
             [
              0.4444444444444444,
              "#bd3786"
             ],
             [
              0.5555555555555556,
              "#d8576b"
             ],
             [
              0.6666666666666666,
              "#ed7953"
             ],
             [
              0.7777777777777778,
              "#fb9f3a"
             ],
             [
              0.8888888888888888,
              "#fdca26"
             ],
             [
              1,
              "#f0f921"
             ]
            ],
            "type": "heatmap"
           }
          ],
          "heatmapgl": [
           {
            "colorbar": {
             "outlinewidth": 0,
             "ticks": ""
            },
            "colorscale": [
             [
              0,
              "#0d0887"
             ],
             [
              0.1111111111111111,
              "#46039f"
             ],
             [
              0.2222222222222222,
              "#7201a8"
             ],
             [
              0.3333333333333333,
              "#9c179e"
             ],
             [
              0.4444444444444444,
              "#bd3786"
             ],
             [
              0.5555555555555556,
              "#d8576b"
             ],
             [
              0.6666666666666666,
              "#ed7953"
             ],
             [
              0.7777777777777778,
              "#fb9f3a"
             ],
             [
              0.8888888888888888,
              "#fdca26"
             ],
             [
              1,
              "#f0f921"
             ]
            ],
            "type": "heatmapgl"
           }
          ],
          "histogram": [
           {
            "marker": {
             "colorbar": {
              "outlinewidth": 0,
              "ticks": ""
             }
            },
            "type": "histogram"
           }
          ],
          "histogram2d": [
           {
            "colorbar": {
             "outlinewidth": 0,
             "ticks": ""
            },
            "colorscale": [
             [
              0,
              "#0d0887"
             ],
             [
              0.1111111111111111,
              "#46039f"
             ],
             [
              0.2222222222222222,
              "#7201a8"
             ],
             [
              0.3333333333333333,
              "#9c179e"
             ],
             [
              0.4444444444444444,
              "#bd3786"
             ],
             [
              0.5555555555555556,
              "#d8576b"
             ],
             [
              0.6666666666666666,
              "#ed7953"
             ],
             [
              0.7777777777777778,
              "#fb9f3a"
             ],
             [
              0.8888888888888888,
              "#fdca26"
             ],
             [
              1,
              "#f0f921"
             ]
            ],
            "type": "histogram2d"
           }
          ],
          "histogram2dcontour": [
           {
            "colorbar": {
             "outlinewidth": 0,
             "ticks": ""
            },
            "colorscale": [
             [
              0,
              "#0d0887"
             ],
             [
              0.1111111111111111,
              "#46039f"
             ],
             [
              0.2222222222222222,
              "#7201a8"
             ],
             [
              0.3333333333333333,
              "#9c179e"
             ],
             [
              0.4444444444444444,
              "#bd3786"
             ],
             [
              0.5555555555555556,
              "#d8576b"
             ],
             [
              0.6666666666666666,
              "#ed7953"
             ],
             [
              0.7777777777777778,
              "#fb9f3a"
             ],
             [
              0.8888888888888888,
              "#fdca26"
             ],
             [
              1,
              "#f0f921"
             ]
            ],
            "type": "histogram2dcontour"
           }
          ],
          "mesh3d": [
           {
            "colorbar": {
             "outlinewidth": 0,
             "ticks": ""
            },
            "type": "mesh3d"
           }
          ],
          "parcoords": [
           {
            "line": {
             "colorbar": {
              "outlinewidth": 0,
              "ticks": ""
             }
            },
            "type": "parcoords"
           }
          ],
          "pie": [
           {
            "automargin": true,
            "type": "pie"
           }
          ],
          "scatter": [
           {
            "marker": {
             "colorbar": {
              "outlinewidth": 0,
              "ticks": ""
             }
            },
            "type": "scatter"
           }
          ],
          "scatter3d": [
           {
            "line": {
             "colorbar": {
              "outlinewidth": 0,
              "ticks": ""
             }
            },
            "marker": {
             "colorbar": {
              "outlinewidth": 0,
              "ticks": ""
             }
            },
            "type": "scatter3d"
           }
          ],
          "scattercarpet": [
           {
            "marker": {
             "colorbar": {
              "outlinewidth": 0,
              "ticks": ""
             }
            },
            "type": "scattercarpet"
           }
          ],
          "scattergeo": [
           {
            "marker": {
             "colorbar": {
              "outlinewidth": 0,
              "ticks": ""
             }
            },
            "type": "scattergeo"
           }
          ],
          "scattergl": [
           {
            "marker": {
             "colorbar": {
              "outlinewidth": 0,
              "ticks": ""
             }
            },
            "type": "scattergl"
           }
          ],
          "scattermapbox": [
           {
            "marker": {
             "colorbar": {
              "outlinewidth": 0,
              "ticks": ""
             }
            },
            "type": "scattermapbox"
           }
          ],
          "scatterpolar": [
           {
            "marker": {
             "colorbar": {
              "outlinewidth": 0,
              "ticks": ""
             }
            },
            "type": "scatterpolar"
           }
          ],
          "scatterpolargl": [
           {
            "marker": {
             "colorbar": {
              "outlinewidth": 0,
              "ticks": ""
             }
            },
            "type": "scatterpolargl"
           }
          ],
          "scatterternary": [
           {
            "marker": {
             "colorbar": {
              "outlinewidth": 0,
              "ticks": ""
             }
            },
            "type": "scatterternary"
           }
          ],
          "surface": [
           {
            "colorbar": {
             "outlinewidth": 0,
             "ticks": ""
            },
            "colorscale": [
             [
              0,
              "#0d0887"
             ],
             [
              0.1111111111111111,
              "#46039f"
             ],
             [
              0.2222222222222222,
              "#7201a8"
             ],
             [
              0.3333333333333333,
              "#9c179e"
             ],
             [
              0.4444444444444444,
              "#bd3786"
             ],
             [
              0.5555555555555556,
              "#d8576b"
             ],
             [
              0.6666666666666666,
              "#ed7953"
             ],
             [
              0.7777777777777778,
              "#fb9f3a"
             ],
             [
              0.8888888888888888,
              "#fdca26"
             ],
             [
              1,
              "#f0f921"
             ]
            ],
            "type": "surface"
           }
          ],
          "table": [
           {
            "cells": {
             "fill": {
              "color": "#EBF0F8"
             },
             "line": {
              "color": "white"
             }
            },
            "header": {
             "fill": {
              "color": "#C8D4E3"
             },
             "line": {
              "color": "white"
             }
            },
            "type": "table"
           }
          ]
         },
         "layout": {
          "annotationdefaults": {
           "arrowcolor": "#2a3f5f",
           "arrowhead": 0,
           "arrowwidth": 1
          },
          "coloraxis": {
           "colorbar": {
            "outlinewidth": 0,
            "ticks": ""
           }
          },
          "colorscale": {
           "diverging": [
            [
             0,
             "#8e0152"
            ],
            [
             0.1,
             "#c51b7d"
            ],
            [
             0.2,
             "#de77ae"
            ],
            [
             0.3,
             "#f1b6da"
            ],
            [
             0.4,
             "#fde0ef"
            ],
            [
             0.5,
             "#f7f7f7"
            ],
            [
             0.6,
             "#e6f5d0"
            ],
            [
             0.7,
             "#b8e186"
            ],
            [
             0.8,
             "#7fbc41"
            ],
            [
             0.9,
             "#4d9221"
            ],
            [
             1,
             "#276419"
            ]
           ],
           "sequential": [
            [
             0,
             "#0d0887"
            ],
            [
             0.1111111111111111,
             "#46039f"
            ],
            [
             0.2222222222222222,
             "#7201a8"
            ],
            [
             0.3333333333333333,
             "#9c179e"
            ],
            [
             0.4444444444444444,
             "#bd3786"
            ],
            [
             0.5555555555555556,
             "#d8576b"
            ],
            [
             0.6666666666666666,
             "#ed7953"
            ],
            [
             0.7777777777777778,
             "#fb9f3a"
            ],
            [
             0.8888888888888888,
             "#fdca26"
            ],
            [
             1,
             "#f0f921"
            ]
           ],
           "sequentialminus": [
            [
             0,
             "#0d0887"
            ],
            [
             0.1111111111111111,
             "#46039f"
            ],
            [
             0.2222222222222222,
             "#7201a8"
            ],
            [
             0.3333333333333333,
             "#9c179e"
            ],
            [
             0.4444444444444444,
             "#bd3786"
            ],
            [
             0.5555555555555556,
             "#d8576b"
            ],
            [
             0.6666666666666666,
             "#ed7953"
            ],
            [
             0.7777777777777778,
             "#fb9f3a"
            ],
            [
             0.8888888888888888,
             "#fdca26"
            ],
            [
             1,
             "#f0f921"
            ]
           ]
          },
          "colorway": [
           "#636efa",
           "#EF553B",
           "#00cc96",
           "#ab63fa",
           "#FFA15A",
           "#19d3f3",
           "#FF6692",
           "#B6E880",
           "#FF97FF",
           "#FECB52"
          ],
          "font": {
           "color": "#2a3f5f"
          },
          "geo": {
           "bgcolor": "white",
           "lakecolor": "white",
           "landcolor": "#E5ECF6",
           "showlakes": true,
           "showland": true,
           "subunitcolor": "white"
          },
          "hoverlabel": {
           "align": "left"
          },
          "hovermode": "closest",
          "mapbox": {
           "style": "light"
          },
          "paper_bgcolor": "white",
          "plot_bgcolor": "#E5ECF6",
          "polar": {
           "angularaxis": {
            "gridcolor": "white",
            "linecolor": "white",
            "ticks": ""
           },
           "bgcolor": "#E5ECF6",
           "radialaxis": {
            "gridcolor": "white",
            "linecolor": "white",
            "ticks": ""
           }
          },
          "scene": {
           "xaxis": {
            "backgroundcolor": "#E5ECF6",
            "gridcolor": "white",
            "gridwidth": 2,
            "linecolor": "white",
            "showbackground": true,
            "ticks": "",
            "zerolinecolor": "white"
           },
           "yaxis": {
            "backgroundcolor": "#E5ECF6",
            "gridcolor": "white",
            "gridwidth": 2,
            "linecolor": "white",
            "showbackground": true,
            "ticks": "",
            "zerolinecolor": "white"
           },
           "zaxis": {
            "backgroundcolor": "#E5ECF6",
            "gridcolor": "white",
            "gridwidth": 2,
            "linecolor": "white",
            "showbackground": true,
            "ticks": "",
            "zerolinecolor": "white"
           }
          },
          "shapedefaults": {
           "line": {
            "color": "#2a3f5f"
           }
          },
          "ternary": {
           "aaxis": {
            "gridcolor": "white",
            "linecolor": "white",
            "ticks": ""
           },
           "baxis": {
            "gridcolor": "white",
            "linecolor": "white",
            "ticks": ""
           },
           "bgcolor": "#E5ECF6",
           "caxis": {
            "gridcolor": "white",
            "linecolor": "white",
            "ticks": ""
           }
          },
          "title": {
           "x": 0.05
          },
          "xaxis": {
           "automargin": true,
           "gridcolor": "white",
           "linecolor": "white",
           "ticks": "",
           "title": {
            "standoff": 15
           },
           "zerolinecolor": "white",
           "zerolinewidth": 2
          },
          "yaxis": {
           "automargin": true,
           "gridcolor": "white",
           "linecolor": "white",
           "ticks": "",
           "title": {
            "standoff": 15
           },
           "zerolinecolor": "white",
           "zerolinewidth": 2
          }
         }
        }
       }
      },
      "text/html": [
       "<div>\n",
       "        \n",
       "        \n",
       "            <div id=\"fd97b602-754f-4a2c-992f-082273e09796\" class=\"plotly-graph-div\" style=\"height:525px; width:100%;\"></div>\n",
       "            <script type=\"text/javascript\">\n",
       "                require([\"plotly\"], function(Plotly) {\n",
       "                    window.PLOTLYENV=window.PLOTLYENV || {};\n",
       "                    \n",
       "                if (document.getElementById(\"fd97b602-754f-4a2c-992f-082273e09796\")) {\n",
       "                    Plotly.newPlot(\n",
       "                        'fd97b602-754f-4a2c-992f-082273e09796',\n",
       "                        [{\"lat\": [\"-10.943145\", \"-9.0478679\", \"-4.479925\", \"2.135138\", \"-4.7493933\", \"1.3545442\", \"-10.8855129\", \"-5.2085503\", \"-7.6992782\", \"-5.3264703\", \"-5.6781175\", \"-7.1219366\", \"-8.4116316\", \"-9.6611661\", \"-10.6743911\", \"-12.285251\", \"-18.5264844\", \"-19.5687682\", \"-22.2752762\", \"-21.9549806\", \"-24.4842187\", \"-27.0628367\", \"-29.8425284\", \"-19.5852564\", \"-12.2115009\", \"-15.9323662\", \"-15.7754462\"], \"lon\": [\"-62.8277863\", \"-70.5264976\", \"-63.5185396\", \"-61.3631922\", \"-52.8973006\", \"-51.9161977\", \"-48.3716912\", \"-45.3930262\", \"-42.5043787\", \"-39.7156073\", \"-36.4781776\", \"-36.7246845\", \"-37.5919699\", \"-36.6502426\", \"-37.3773519\", \"-41.9294776\", \"-44.1588654\", \"-40.1721991\", \"-42.419415\", \"-49.0232348\", \"-51.8148872\", \"-51.114965\", \"-53.7680577\", \"-54.4794731\", \"-55.5716547\", \"-50.1392928\", \"-47.7970891\"], \"marker\": {\"size\": 9}, \"mode\": \"markers\", \"text\": [\"RO\\nCasos confirmados: 12041\\nMortes: 338\\n\", \"AC\\nCasos confirmados: 6498\\nMortes: 243\\n\", \"AM\\nCasos confirmados: 26783\\nMortes: 1747\\n\", \"RR\\nCasos confirmados: 9705\\nMortes: 217\\n\", \"PA\\nCasos confirmados: 18620\\nMortes: 1883\\n\", \"AP\\nCasos confirmados: 12885\\nMortes: 245\\n\", \"TO\\nCasos confirmados: 3655\\nMortes: 53\\n\", \"MA\\nCasos confirmados: 12755\\nMortes: 771\\n\", \"PI\\nCasos confirmados: 6899\\nMortes: 324\\n\", \"CE\\nCasos confirmados: 34580\\nMortes: 3235\\n\", \"RN\\nCasos confirmados: 9234\\nMortes: 343\\n\", \"PB\\nCasos confirmados: 12015\\nMortes: 296\\n\", \"PE\\nCasos confirmados: 20275\\nMortes: 1781\\n\", \"AL\\nCasos confirmados: 14236\\nMortes: 569\\n\", \"SE\\nCasos confirmados: 12849\\nMortes: 247\\n\", \"BA\\nCasos confirmados: 27713\\nMortes: 1046\\n\", \"MG\\nCasos confirmados: 5827\\nMortes: 109\\n\", \"ES\\nCasos confirmados: 6926\\nMortes: 289\\n\", \"RJ\\nCasos confirmados: 55152\\nMortes: 6264\\n\", \"SP\\nCasos confirmados: 121163\\nMortes: 6880\\n\", \"PR\\nCasos confirmados: 3208\\nMortes: 128\\n\", \"SC\\nCasos confirmados: 2397\\nMortes: 35\\n\", \"RS\\nCasos confirmados: 2384\\nMortes: 76\\n\", \"MS\\nCasos confirmados: 2335\\nMortes: 19\\n\", \"MT\\nCasos confirmados: 3161\\nMortes: 137\\n\", \"GO\\nCasos confirmados: 6054\\nMortes: 144\\n\", \"DF\\nCasos confirmados: 41326\\nMortes: 532\\n\"], \"type\": \"scattermapbox\"}],\n",
       "                        {\"hovermode\": \"closest\", \"mapbox\": {\"accesstoken\": \"pk.eyJ1Ijoiam9hby1jcnV6IiwiYSI6ImNrYnlnZ25idzB6ajYzMXAzMmFzYzRsdTQifQ.tHr2hYVGHfydnnwlZN8RQg\\n\", \"bearing\": 0, \"center\": {\"lat\": -10.3333333, \"lon\": -53.2}, \"pitch\": 0, \"zoom\": 3}, \"template\": {\"data\": {\"bar\": [{\"error_x\": {\"color\": \"#2a3f5f\"}, \"error_y\": {\"color\": \"#2a3f5f\"}, \"marker\": {\"line\": {\"color\": \"#E5ECF6\", \"width\": 0.5}}, \"type\": \"bar\"}], \"barpolar\": [{\"marker\": {\"line\": {\"color\": \"#E5ECF6\", \"width\": 0.5}}, \"type\": \"barpolar\"}], \"carpet\": [{\"aaxis\": {\"endlinecolor\": \"#2a3f5f\", \"gridcolor\": \"white\", \"linecolor\": \"white\", \"minorgridcolor\": \"white\", \"startlinecolor\": \"#2a3f5f\"}, \"baxis\": {\"endlinecolor\": \"#2a3f5f\", \"gridcolor\": \"white\", \"linecolor\": \"white\", \"minorgridcolor\": \"white\", \"startlinecolor\": \"#2a3f5f\"}, \"type\": \"carpet\"}], \"choropleth\": [{\"colorbar\": {\"outlinewidth\": 0, \"ticks\": \"\"}, \"type\": \"choropleth\"}], \"contour\": [{\"colorbar\": {\"outlinewidth\": 0, \"ticks\": \"\"}, \"colorscale\": [[0.0, \"#0d0887\"], [0.1111111111111111, \"#46039f\"], [0.2222222222222222, \"#7201a8\"], [0.3333333333333333, \"#9c179e\"], [0.4444444444444444, \"#bd3786\"], [0.5555555555555556, \"#d8576b\"], [0.6666666666666666, \"#ed7953\"], [0.7777777777777778, \"#fb9f3a\"], [0.8888888888888888, \"#fdca26\"], [1.0, \"#f0f921\"]], \"type\": \"contour\"}], \"contourcarpet\": [{\"colorbar\": {\"outlinewidth\": 0, \"ticks\": \"\"}, \"type\": \"contourcarpet\"}], \"heatmap\": [{\"colorbar\": {\"outlinewidth\": 0, \"ticks\": \"\"}, \"colorscale\": [[0.0, \"#0d0887\"], [0.1111111111111111, \"#46039f\"], [0.2222222222222222, \"#7201a8\"], [0.3333333333333333, \"#9c179e\"], [0.4444444444444444, \"#bd3786\"], [0.5555555555555556, \"#d8576b\"], [0.6666666666666666, \"#ed7953\"], [0.7777777777777778, \"#fb9f3a\"], [0.8888888888888888, \"#fdca26\"], [1.0, \"#f0f921\"]], \"type\": \"heatmap\"}], \"heatmapgl\": [{\"colorbar\": {\"outlinewidth\": 0, \"ticks\": \"\"}, \"colorscale\": [[0.0, \"#0d0887\"], [0.1111111111111111, \"#46039f\"], [0.2222222222222222, \"#7201a8\"], [0.3333333333333333, \"#9c179e\"], [0.4444444444444444, \"#bd3786\"], [0.5555555555555556, \"#d8576b\"], [0.6666666666666666, \"#ed7953\"], [0.7777777777777778, \"#fb9f3a\"], [0.8888888888888888, \"#fdca26\"], [1.0, \"#f0f921\"]], \"type\": \"heatmapgl\"}], \"histogram\": [{\"marker\": {\"colorbar\": {\"outlinewidth\": 0, \"ticks\": \"\"}}, \"type\": \"histogram\"}], \"histogram2d\": [{\"colorbar\": {\"outlinewidth\": 0, \"ticks\": \"\"}, \"colorscale\": [[0.0, \"#0d0887\"], [0.1111111111111111, \"#46039f\"], [0.2222222222222222, \"#7201a8\"], [0.3333333333333333, \"#9c179e\"], [0.4444444444444444, \"#bd3786\"], [0.5555555555555556, \"#d8576b\"], [0.6666666666666666, \"#ed7953\"], [0.7777777777777778, \"#fb9f3a\"], [0.8888888888888888, \"#fdca26\"], [1.0, \"#f0f921\"]], \"type\": \"histogram2d\"}], \"histogram2dcontour\": [{\"colorbar\": {\"outlinewidth\": 0, \"ticks\": \"\"}, \"colorscale\": [[0.0, \"#0d0887\"], [0.1111111111111111, \"#46039f\"], [0.2222222222222222, \"#7201a8\"], [0.3333333333333333, \"#9c179e\"], [0.4444444444444444, \"#bd3786\"], [0.5555555555555556, \"#d8576b\"], [0.6666666666666666, \"#ed7953\"], [0.7777777777777778, \"#fb9f3a\"], [0.8888888888888888, \"#fdca26\"], [1.0, \"#f0f921\"]], \"type\": \"histogram2dcontour\"}], \"mesh3d\": [{\"colorbar\": {\"outlinewidth\": 0, \"ticks\": \"\"}, \"type\": \"mesh3d\"}], \"parcoords\": [{\"line\": {\"colorbar\": {\"outlinewidth\": 0, \"ticks\": \"\"}}, \"type\": \"parcoords\"}], \"pie\": [{\"automargin\": true, \"type\": \"pie\"}], \"scatter\": [{\"marker\": {\"colorbar\": {\"outlinewidth\": 0, \"ticks\": \"\"}}, \"type\": \"scatter\"}], \"scatter3d\": [{\"line\": {\"colorbar\": {\"outlinewidth\": 0, \"ticks\": \"\"}}, \"marker\": {\"colorbar\": {\"outlinewidth\": 0, \"ticks\": \"\"}}, \"type\": \"scatter3d\"}], \"scattercarpet\": [{\"marker\": {\"colorbar\": {\"outlinewidth\": 0, \"ticks\": \"\"}}, \"type\": \"scattercarpet\"}], \"scattergeo\": [{\"marker\": {\"colorbar\": {\"outlinewidth\": 0, \"ticks\": \"\"}}, \"type\": \"scattergeo\"}], \"scattergl\": [{\"marker\": {\"colorbar\": {\"outlinewidth\": 0, \"ticks\": \"\"}}, \"type\": \"scattergl\"}], \"scattermapbox\": [{\"marker\": {\"colorbar\": {\"outlinewidth\": 0, \"ticks\": \"\"}}, \"type\": \"scattermapbox\"}], \"scatterpolar\": [{\"marker\": {\"colorbar\": {\"outlinewidth\": 0, \"ticks\": \"\"}}, \"type\": \"scatterpolar\"}], \"scatterpolargl\": [{\"marker\": {\"colorbar\": {\"outlinewidth\": 0, \"ticks\": \"\"}}, \"type\": \"scatterpolargl\"}], \"scatterternary\": [{\"marker\": {\"colorbar\": {\"outlinewidth\": 0, \"ticks\": \"\"}}, \"type\": \"scatterternary\"}], \"surface\": [{\"colorbar\": {\"outlinewidth\": 0, \"ticks\": \"\"}, \"colorscale\": [[0.0, \"#0d0887\"], [0.1111111111111111, \"#46039f\"], [0.2222222222222222, \"#7201a8\"], [0.3333333333333333, \"#9c179e\"], [0.4444444444444444, \"#bd3786\"], [0.5555555555555556, \"#d8576b\"], [0.6666666666666666, \"#ed7953\"], [0.7777777777777778, \"#fb9f3a\"], [0.8888888888888888, \"#fdca26\"], [1.0, \"#f0f921\"]], \"type\": \"surface\"}], \"table\": [{\"cells\": {\"fill\": {\"color\": \"#EBF0F8\"}, \"line\": {\"color\": \"white\"}}, \"header\": {\"fill\": {\"color\": \"#C8D4E3\"}, \"line\": {\"color\": \"white\"}}, \"type\": \"table\"}]}, \"layout\": {\"annotationdefaults\": {\"arrowcolor\": \"#2a3f5f\", \"arrowhead\": 0, \"arrowwidth\": 1}, \"coloraxis\": {\"colorbar\": {\"outlinewidth\": 0, \"ticks\": \"\"}}, \"colorscale\": {\"diverging\": [[0, \"#8e0152\"], [0.1, \"#c51b7d\"], [0.2, \"#de77ae\"], [0.3, \"#f1b6da\"], [0.4, \"#fde0ef\"], [0.5, \"#f7f7f7\"], [0.6, \"#e6f5d0\"], [0.7, \"#b8e186\"], [0.8, \"#7fbc41\"], [0.9, \"#4d9221\"], [1, \"#276419\"]], \"sequential\": [[0.0, \"#0d0887\"], [0.1111111111111111, \"#46039f\"], [0.2222222222222222, \"#7201a8\"], [0.3333333333333333, \"#9c179e\"], [0.4444444444444444, \"#bd3786\"], [0.5555555555555556, \"#d8576b\"], [0.6666666666666666, \"#ed7953\"], [0.7777777777777778, \"#fb9f3a\"], [0.8888888888888888, \"#fdca26\"], [1.0, \"#f0f921\"]], \"sequentialminus\": [[0.0, \"#0d0887\"], [0.1111111111111111, \"#46039f\"], [0.2222222222222222, \"#7201a8\"], [0.3333333333333333, \"#9c179e\"], [0.4444444444444444, \"#bd3786\"], [0.5555555555555556, \"#d8576b\"], [0.6666666666666666, \"#ed7953\"], [0.7777777777777778, \"#fb9f3a\"], [0.8888888888888888, \"#fdca26\"], [1.0, \"#f0f921\"]]}, \"colorway\": [\"#636efa\", \"#EF553B\", \"#00cc96\", \"#ab63fa\", \"#FFA15A\", \"#19d3f3\", \"#FF6692\", \"#B6E880\", \"#FF97FF\", \"#FECB52\"], \"font\": {\"color\": \"#2a3f5f\"}, \"geo\": {\"bgcolor\": \"white\", \"lakecolor\": \"white\", \"landcolor\": \"#E5ECF6\", \"showlakes\": true, \"showland\": true, \"subunitcolor\": \"white\"}, \"hoverlabel\": {\"align\": \"left\"}, \"hovermode\": \"closest\", \"mapbox\": {\"style\": \"light\"}, \"paper_bgcolor\": \"white\", \"plot_bgcolor\": \"#E5ECF6\", \"polar\": {\"angularaxis\": {\"gridcolor\": \"white\", \"linecolor\": \"white\", \"ticks\": \"\"}, \"bgcolor\": \"#E5ECF6\", \"radialaxis\": {\"gridcolor\": \"white\", \"linecolor\": \"white\", \"ticks\": \"\"}}, \"scene\": {\"xaxis\": {\"backgroundcolor\": \"#E5ECF6\", \"gridcolor\": \"white\", \"gridwidth\": 2, \"linecolor\": \"white\", \"showbackground\": true, \"ticks\": \"\", \"zerolinecolor\": \"white\"}, \"yaxis\": {\"backgroundcolor\": \"#E5ECF6\", \"gridcolor\": \"white\", \"gridwidth\": 2, \"linecolor\": \"white\", \"showbackground\": true, \"ticks\": \"\", \"zerolinecolor\": \"white\"}, \"zaxis\": {\"backgroundcolor\": \"#E5ECF6\", \"gridcolor\": \"white\", \"gridwidth\": 2, \"linecolor\": \"white\", \"showbackground\": true, \"ticks\": \"\", \"zerolinecolor\": \"white\"}}, \"shapedefaults\": {\"line\": {\"color\": \"#2a3f5f\"}}, \"ternary\": {\"aaxis\": {\"gridcolor\": \"white\", \"linecolor\": \"white\", \"ticks\": \"\"}, \"baxis\": {\"gridcolor\": \"white\", \"linecolor\": \"white\", \"ticks\": \"\"}, \"bgcolor\": \"#E5ECF6\", \"caxis\": {\"gridcolor\": \"white\", \"linecolor\": \"white\", \"ticks\": \"\"}}, \"title\": {\"x\": 0.05}, \"xaxis\": {\"automargin\": true, \"gridcolor\": \"white\", \"linecolor\": \"white\", \"ticks\": \"\", \"title\": {\"standoff\": 15}, \"zerolinecolor\": \"white\", \"zerolinewidth\": 2}, \"yaxis\": {\"automargin\": true, \"gridcolor\": \"white\", \"linecolor\": \"white\", \"ticks\": \"\", \"title\": {\"standoff\": 15}, \"zerolinecolor\": \"white\", \"zerolinewidth\": 2}}}},\n",
       "                        {\"responsive\": true}\n",
       "                    ).then(function(){\n",
       "                            \n",
       "var gd = document.getElementById('fd97b602-754f-4a2c-992f-082273e09796');\n",
       "var x = new MutationObserver(function (mutations, observer) {{\n",
       "        var display = window.getComputedStyle(gd).display;\n",
       "        if (!display || display === 'none') {{\n",
       "            console.log([gd, 'removed!']);\n",
       "            Plotly.purge(gd);\n",
       "            observer.disconnect();\n",
       "        }}\n",
       "}});\n",
       "\n",
       "// Listen for the removal of the full notebook cells\n",
       "var notebookContainer = gd.closest('#notebook-container');\n",
       "if (notebookContainer) {{\n",
       "    x.observe(notebookContainer, {childList: true});\n",
       "}}\n",
       "\n",
       "// Listen for the clearing of the current output cell\n",
       "var outputEl = gd.closest('.output');\n",
       "if (outputEl) {{\n",
       "    x.observe(outputEl, {childList: true});\n",
       "}}\n",
       "\n",
       "                        })\n",
       "                };\n",
       "                });\n",
       "            </script>\n",
       "        </div>"
      ]
     },
     "metadata": {},
     "output_type": "display_data"
    }
   ],
   "source": [
    "mapbox_access_token = open(\".mapbox_token\").read()\n",
    "\n",
    "fig = go.Figure(go.Scattermapbox(\n",
    "        lat=latitudes,\n",
    "        lon=longitudes,\n",
    "        mode='markers',\n",
    "        marker=go.scattermapbox.Marker(\n",
    "            size=9\n",
    "        ),\n",
    "        text=descFramework para cel é React?\n",
    "\n",
    "    ))\n",
    "\n",
    "fig.update_layout(\n",
    "    hovermode='closest',\n",
    "    mapbox=dict(\n",
    "        accesstoken=mapbox_access_token,\n",
    "        bearing=0,\n",
    "        center=dict(\n",
    "            lat=-10.3333333,\n",
    "            lon=-53.2\n",
    "        ),\n",
    "        pitch=0,\n",
    "        zoom=3\n",
    "    ),\n",
    ")\n",
    "\n",
    "fig.show()"
   ]
  },
  {
   "cell_type": "code",
   "execution_count": null,
   "metadata": {},
   "outputs": [],
   "source": []
  }
 ],
 "metadata": {
  "kernelspec": {
   "display_name": "Python 3",
   "language": "python",
   "name": "python3"
  },
  "language_info": {
   "codemirror_mode": {
    "name": "ipython",
    "version": 3
   },
   "file_extension": ".py",
   "mimetype": "text/x-python",
   "name": "python",
   "nbconvert_exporter": "python",
   "pygments_lexer": "ipython3",
   "version": "3.6.9"
  }
 },
 "nbformat": 4,
 "nbformat_minor": 4
}
