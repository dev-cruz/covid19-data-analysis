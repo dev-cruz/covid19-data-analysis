{
 "cells": [
  {
   "cell_type": "code",
   "execution_count": 2,
   "metadata": {},
   "outputs": [],
   "source": [
    "import pandas as pd\n",
    "import matplotlib.pyplot as plt\n",
    "low_memory=False\n",
    "pd.options.display.max_columns = 80\n",
    "pd.options.display.max_rows = 90"
   ]
  },
  {
   "cell_type": "code",
   "execution_count": 7,
   "metadata": {},
   "outputs": [],
   "source": [
    "filename = r'./covid19-brazil.csv'\n",
    "df = pd.read_csv(filename, delimiter=',', encoding='UTF-8')"
   ]
  },
  {
   "cell_type": "code",
   "execution_count": 8,
   "metadata": {},
   "outputs": [
    {
     "data": {
      "text/plain": [
       "(488284, 17)"
      ]
     },
     "execution_count": 8,
     "metadata": {},
     "output_type": "execute_result"
    }
   ],
   "source": [
    "df.shape"
   ]
  },
  {
   "cell_type": "code",
   "execution_count": 9,
   "metadata": {},
   "outputs": [
    {
     "name": "stdout",
     "output_type": "stream",
     "text": [
      "<class 'pandas.core.frame.DataFrame'>\n",
      "RangeIndex: 488284 entries, 0 to 488283\n",
      "Data columns (total 17 columns):\n",
      " #   Column                 Non-Null Count   Dtype  \n",
      "---  ------                 --------------   -----  \n",
      " 0   regiao                 488284 non-null  object \n",
      " 1   estado                 488161 non-null  object \n",
      " 2   municipio              482908 non-null  object \n",
      " 3   coduf                  488284 non-null  int64  \n",
      " 4   codmun                 484840 non-null  float64\n",
      " 5   codRegiaoSaude         482908 non-null  float64\n",
      " 6   nomeRegiaoSaude        482908 non-null  object \n",
      " 7   data                   488284 non-null  object \n",
      " 8   semanaEpi              488284 non-null  int64  \n",
      " 9   populacaoTCU2019       486352 non-null  object \n",
      " 10  casosAcumulado         488284 non-null  int64  \n",
      " 11  casosNovos             488284 non-null  int64  \n",
      " 12  obitosAcumulado        488284 non-null  int64  \n",
      " 13  obitosNovos            488284 non-null  int64  \n",
      " 14  Recuperadosnovos       69 non-null      float64\n",
      " 15  emAcompanhamentoNovos  69 non-null      float64\n",
      " 16  FgMetro                482908 non-null  float64\n",
      "dtypes: float64(5), int64(6), object(6)\n",
      "memory usage: 63.3+ MB\n"
     ]
    }
   ],
   "source": [
    "df.info()"
   ]
  },
  {
   "cell_type": "code",
   "execution_count": 10,
   "metadata": {},
   "outputs": [
    {
     "data": {
      "text/html": [
       "<div>\n",
       "<style scoped>\n",
       "    .dataframe tbody tr th:only-of-type {\n",
       "        vertical-align: middle;\n",
       "    }\n",
       "\n",
       "    .dataframe tbody tr th {\n",
       "        vertical-align: top;\n",
       "    }\n",
       "\n",
       "    .dataframe thead th {\n",
       "        text-align: right;\n",
       "    }\n",
       "</style>\n",
       "<table border=\"1\" class=\"dataframe\">\n",
       "  <thead>\n",
       "    <tr style=\"text-align: right;\">\n",
       "      <th></th>\n",
       "      <th>regiao</th>\n",
       "      <th>estado</th>\n",
       "      <th>municipio</th>\n",
       "      <th>data</th>\n",
       "      <th>casos</th>\n",
       "      <th>obitos</th>\n",
       "    </tr>\n",
       "  </thead>\n",
       "  <tbody>\n",
       "    <tr>\n",
       "      <th>364569</th>\n",
       "      <td>Sul</td>\n",
       "      <td>PR</td>\n",
       "      <td>Francisco Alves</td>\n",
       "      <td>4/21/2020</td>\n",
       "      <td>0</td>\n",
       "      <td>0</td>\n",
       "    </tr>\n",
       "    <tr>\n",
       "      <th>304171</th>\n",
       "      <td>Sudeste</td>\n",
       "      <td>SP</td>\n",
       "      <td>Bertioga</td>\n",
       "      <td>6/6/2020</td>\n",
       "      <td>148</td>\n",
       "      <td>7</td>\n",
       "    </tr>\n",
       "    <tr>\n",
       "      <th>343029</th>\n",
       "      <td>Sudeste</td>\n",
       "      <td>SP</td>\n",
       "      <td>Santa Branca</td>\n",
       "      <td>4/9/2020</td>\n",
       "      <td>2</td>\n",
       "      <td>1</td>\n",
       "    </tr>\n",
       "    <tr>\n",
       "      <th>170572</th>\n",
       "      <td>Nordeste</td>\n",
       "      <td>BA</td>\n",
       "      <td>Banzaê</td>\n",
       "      <td>5/22/2020</td>\n",
       "      <td>1</td>\n",
       "      <td>0</td>\n",
       "    </tr>\n",
       "    <tr>\n",
       "      <th>309472</th>\n",
       "      <td>Sudeste</td>\n",
       "      <td>SP</td>\n",
       "      <td>Cesário Lange</td>\n",
       "      <td>5/2/2020</td>\n",
       "      <td>0</td>\n",
       "      <td>0</td>\n",
       "    </tr>\n",
       "    <tr>\n",
       "      <th>252666</th>\n",
       "      <td>Sudeste</td>\n",
       "      <td>MG</td>\n",
       "      <td>Ouro Branco</td>\n",
       "      <td>6/21/2020</td>\n",
       "      <td>36</td>\n",
       "      <td>0</td>\n",
       "    </tr>\n",
       "    <tr>\n",
       "      <th>2282</th>\n",
       "      <td>Sudeste</td>\n",
       "      <td>ES</td>\n",
       "      <td>NaN</td>\n",
       "      <td>5/3/2020</td>\n",
       "      <td>3086</td>\n",
       "      <td>114</td>\n",
       "    </tr>\n",
       "    <tr>\n",
       "      <th>479559</th>\n",
       "      <td>Centro-Oeste</td>\n",
       "      <td>GO</td>\n",
       "      <td>Jussara</td>\n",
       "      <td>4/11/2020</td>\n",
       "      <td>0</td>\n",
       "      <td>0</td>\n",
       "    </tr>\n",
       "    <tr>\n",
       "      <th>410696</th>\n",
       "      <td>Sul</td>\n",
       "      <td>SC</td>\n",
       "      <td>Sul Brasil</td>\n",
       "      <td>5/26/2020</td>\n",
       "      <td>0</td>\n",
       "      <td>0</td>\n",
       "    </tr>\n",
       "    <tr>\n",
       "      <th>275276</th>\n",
       "      <td>Sudeste</td>\n",
       "      <td>MG</td>\n",
       "      <td>Serra da Saudade</td>\n",
       "      <td>5/30/2020</td>\n",
       "      <td>0</td>\n",
       "      <td>0</td>\n",
       "    </tr>\n",
       "  </tbody>\n",
       "</table>\n",
       "</div>"
      ],
      "text/plain": [
       "              regiao estado         municipio       data  casos  obitos\n",
       "364569           Sul     PR   Francisco Alves  4/21/2020      0       0\n",
       "304171       Sudeste     SP          Bertioga   6/6/2020    148       7\n",
       "343029       Sudeste     SP      Santa Branca   4/9/2020      2       1\n",
       "170572      Nordeste     BA            Banzaê  5/22/2020      1       0\n",
       "309472       Sudeste     SP     Cesário Lange   5/2/2020      0       0\n",
       "252666       Sudeste     MG       Ouro Branco  6/21/2020     36       0\n",
       "2282         Sudeste     ES               NaN   5/3/2020   3086     114\n",
       "479559  Centro-Oeste     GO           Jussara  4/11/2020      0       0\n",
       "410696           Sul     SC        Sul Brasil  5/26/2020      0       0\n",
       "275276       Sudeste     MG  Serra da Saudade  5/30/2020      0       0"
      ]
     },
     "execution_count": 10,
     "metadata": {},
     "output_type": "execute_result"
    }
   ],
   "source": [
    "df = pd.DataFrame(data={\n",
    "    \"regiao\": df[\"regiao\"],\n",
    "    \"estado\": df[\"estado\"],\n",
    "    \"municipio\": df[\"municipio\"],\n",
    "    \"data\": df[\"data\"],\n",
    "    \"casos\": df[\"casosAcumulado\"],\n",
    "    \"obitos\": df[\"obitosAcumulado\"]\n",
    "})\n",
    "df.sample(10)"
   ]
  },
  {
   "cell_type": "code",
   "execution_count": 18,
   "metadata": {},
   "outputs": [],
   "source": [
    "dates = [\n",
    "    '2/25/2020', '2/29/2020',\n",
    "    '3/1/2020', '3/31/2020',\n",
    "    '4/1/2020', '4/30/2020',\n",
    "    '5/1/2020', '5/31/2020',\n",
    "    '6/1/2020', '6/26/2020'\n",
    "]\n",
    "df = df.loc[df[\"data\"].isin(dates)]"
   ]
  },
  {
   "cell_type": "code",
   "execution_count": null,
   "metadata": {},
   "outputs": [],
   "source": [
    "regional = df.query('regiao != \"Brasil\"')\n",
    "\n",
    "fig, axs = plt.subplots(5)\n",
    "regions = regional[\"regiao\"].unique()\n",
    "\n",
    "for i in range(5):\n",
    "    regional_df = regional.query(f'regiao == \"{regions[i]}\"')\n",
    "    x = regional[\"estado\"]\n",
    "    y = regional[\"casos\"]\n",
    "    axs[i].bar(x, y)"
   ]
  },
  {
   "cell_type": "code",
   "execution_count": 35,
   "metadata": {},
   "outputs": [
    {
     "data": {
      "text/plain": [
       "array(['Brasil', 'Norte', 'Nordeste', 'Sudeste', 'Sul', 'Centro-Oeste'],\n",
       "      dtype=object)"
      ]
     },
     "execution_count": 35,
     "metadata": {},
     "output_type": "execute_result"
    }
   ],
   "source": [
    "df[\"regiao\"].unique()"
   ]
  }
 ],
 "metadata": {
  "kernelspec": {
   "display_name": "Python 3",
   "language": "python",
   "name": "python3"
  },
  "language_info": {
   "codemirror_mode": {
    "name": "ipython",
    "version": 3
   },
   "file_extension": ".py",
   "mimetype": "text/x-python",
   "name": "python",
   "nbconvert_exporter": "python",
   "pygments_lexer": "ipython3",
   "version": "3.6.9"
  }
 },
 "nbformat": 4,
 "nbformat_minor": 4
}
